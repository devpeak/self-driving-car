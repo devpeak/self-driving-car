{
 "cells": [
  {
   "cell_type": "code",
   "execution_count": 1,
   "id": "62d2b219",
   "metadata": {},
   "outputs": [
    {
     "name": "stdout",
     "output_type": "stream",
     "text": [
      "completed processing data.txt\n"
     ]
    }
   ],
   "source": [
    "#reading images and steering angles from driving_Dataset folder\n",
    "\n",
    "from __future__ import division\n",
    "\n",
    "import os \n",
    "import numpy as np\n",
    "import random\n",
    "\n",
    "from scipy import pi\n",
    "from itertools import islice\n",
    "\n",
    "\n",
    "data_folder = 'D:/self-driving-car/Autopilot-TensorFlow-master/driving_dataset/'\n",
    "train_file = os.path.join(data_folder,'data.txt')\n",
    "\n",
    "LIMIT = None\n",
    "\n",
    "split = 0.8\n",
    "x = []\n",
    "y = []\n",
    "\n",
    "with open(train_file) as fp:\n",
    "    for line in islice(fp,LIMIT):\n",
    "        path, angle = line.strip().split()\n",
    "        full_path = os.path.join(data_folder, path)\n",
    "        x.append(full_path)\n",
    "        \n",
    "        #converting angle to radians\n",
    "        y.append(float(angle)* pi / 180)\n",
    "        \n",
    "\n",
    "y = np.array(y)\n",
    "print('completed processing data.txt')\n",
    "\n",
    "split_index = int(len(y)*0.8)\n",
    "\n",
    "train_y = y[:split_index]\n",
    "test_y = y[split_index:] "
   ]
  },
  {
   "cell_type": "code",
   "execution_count": 2,
   "id": "dc9e570f",
   "metadata": {},
   "outputs": [
    {
     "data": {
      "image/png": "[encoded data removed]",
      "text/plain": [
       "<Figure size 432x288 with 1 Axes>"
      ]
     },
     "metadata": {
      "needs_background": "light"
     },
     "output_type": "display_data"
    }
   ],
   "source": [
    "import numpy; \n",
    "\n",
    "\n",
    "import matplotlib.pyplot as plt\n",
    "\n",
    "plt.hist(train_y, bins = 50, color = 'green' , histtype = 'step');\n",
    "plt.hist(test_y, bins = 50, color = 'red', histtype = 'step');\n",
    "plt.show()"
   ]
  },
  {
   "cell_type": "code",
   "execution_count": 3,
   "id": "33f082f6",
   "metadata": {},
   "outputs": [
    {
     "name": "stdout",
     "output_type": "stream",
     "text": [
      "Test_MSE(MEAN) 0.191127 \n",
      "Test_MSE(ZERO) 0.190891\n"
     ]
    }
   ],
   "source": [
    "#Model 0: Base line Model : y_test_pred = mean(y_train_i)\n",
    "\n",
    "train_mean_y = np.mean(train_y)\n",
    "\n",
    "print('Test_MSE(MEAN) %f ' % np.mean(np.square(test_y-train_mean_y)) )\n",
    "\n",
    "print('Test_MSE(ZERO) %f' % np.mean(np.square(test_y-0.0)))"
   ]
  }
 ],
 "metadata": {
  "kernelspec": {
   "display_name": "Python 3 (ipykernel)",
   "language": "python",
   "name": "python3"
  },
  "language_info": {
   "codemirror_mode": {
    "name": "ipython",
    "version": 3
   },
   "file_extension": ".py",
   "mimetype": "text/x-python",
   "name": "python",
   "nbconvert_exporter": "python",
   "pygments_lexer": "ipython3",
   "version": "3.9.7"
  }
 },
 "nbformat": 4,
 "nbformat_minor": 5
}
