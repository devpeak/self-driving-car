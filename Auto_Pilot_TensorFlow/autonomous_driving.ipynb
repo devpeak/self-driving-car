{
 "cells": [
  {
   "cell_type": "code",
   "execution_count": 1,
   "id": "a1c721e7",
   "metadata": {},
   "outputs": [
    {
     "name": "stdout",
     "output_type": "stream",
     "text": [
      "completed processing data.txt\n"
     ]
    }
   ],
   "source": [
    "#reading images and steering angles from driving_Dataset folder\n",
    "\n",
    "from __future__ import division\n",
    "\n",
    "import os \n",
    "import numpy as np\n",
    "import random\n",
    "\n",
    "from scipy import pi\n",
    "from itertools import islice\n",
    "\n",
    "\n",
    "data_folder = 'D:/self-driving-car/Autopilot-TensorFlow-master/driving_dataset/' #driving_dataset location \n",
    "train_file = os.path.join(data_folder,'data.txt')\n",
    "\n",
    "LIMIT = None\n",
    "\n",
    "split = 0.8\n",
    "x = []\n",
    "y = []\n",
    "\n",
    "with open(train_file) as fp:\n",
    "    for line in islice(fp,LIMIT):\n",
    "        path, angle = line.strip().split()\n",
    "        full_path = os.path.join(data_folder, path)\n",
    "        x.append(full_path)\n",
    "        \n",
    "        #converting angle to radians\n",
    "        y.append(float(angle)* pi / 180)\n",
    "        \n",
    "\n",
    "y = np.array(y)\n",
    "print('completed processing data.txt')\n",
    "\n",
    "split_index = int(len(y)*0.8)\n",
    "\n",
    "train_y = y[:split_index]\n",
    "test_y = y[split_index:]"
   ]
  }
 ],
 "metadata": {
  "kernelspec": {
   "display_name": "Python 3 (ipykernel)",
   "language": "python",
   "name": "python3"
  },
  "language_info": {
   "codemirror_mode": {
    "name": "ipython",
    "version": 3
   },
   "file_extension": ".py",
   "mimetype": "text/x-python",
   "name": "python",
   "nbconvert_exporter": "python",
   "pygments_lexer": "ipython3",
   "version": "3.9.7"
  }
 },
 "nbformat": 4,
 "nbformat_minor": 5
}
